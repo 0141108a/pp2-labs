{
 "cells": [
  {
   "cell_type": "code",
   "execution_count": null,
   "id": "5dcf82d3-2836-4057-a4c9-1d6ffc9d21e1",
   "metadata": {},
   "outputs": [],
   "source": [
    "# Dictionary of movies\n",
    "\n",
    "movies = [\n",
    "{\n",
    "\"name\": \"Usual Suspects\", \n",
    "\"imdb\": 7.0,\n",
    "\"category\": \"Thriller\"\n",
    "},\n",
    "{\n",
    "\"name\": \"Hitman\",\n",
    "\"imdb\": 6.3,\n",
    "\"category\": \"Action\"\n",
    "},\n",
    "{\n",
    "\"name\": \"Dark Knight\",\n",
    "\"imdb\": 9.0,\n",
    "\"category\": \"Adventure\"\n",
    "},\n",
    "{\n",
    "\"name\": \"The Help\",\n",
    "\"imdb\": 8.0,\n",
    "\"category\": \"Romance\"\n",
    "},\n",
    "{\n",
    "\"name\": \"The Choice\",\n",
    "\"imdb\": 6.2,\n",
    "\"category\": \"Romance\"\n",
    "},\n",
    "{\n",
    "\"name\": \"Colonia\",\n",
    "\"imdb\": 7.4,\n",
    "\"category\": \"Romance\"\n",
    "},\n",
    "{\n",
    "\"name\": \"Love\",\n",
    "\"imdb\": 6.0,\n",
    "\"category\": \"Romance\"\n",
    "},\n",
    "{\n",
    "\"name\": \"Bride Wars\",\n",
    "\"imdb\": 5.4,\n",
    "\"category\": \"Romance\"\n",
    "},\n",
    "{\n",
    "\"name\": \"AlphaJet\",\n",
    "\"imdb\": 3.2,\n",
    "\"category\": \"War\"\n",
    "},\n",
    "{\n",
    "\"name\": \"Ringing Crime\",\n",
    "\"imdb\": 4.0,\n",
    "\"category\": \"Crime\"\n",
    "},\n",
    "{\n",
    "\"name\": \"Joking muck\",\n",
    "\"imdb\": 7.2,\n",
    "\"category\": \"Comedy\"\n",
    "},\n",
    "{\n",
    "\"name\": \"What is the name\",\n",
    "\"imdb\": 9.2,\n",
    "\"category\": \"Suspense\"\n",
    "},\n",
    "{\n",
    "\"name\": \"Detective\",\n",
    "\"imdb\": 7.0,\n",
    "\"category\": \"Suspense\"\n",
    "},\n",
    "{\n",
    "\"name\": \"Exam\",\n",
    "\"imdb\": 4.2,\n",
    "\"category\": \"Thriller\"\n",
    "},\n",
    "{\n",
    "\"name\": \"We Two\",\n",
    "\"imdb\": 7.2,\n",
    "\"category\": \"Romance\"\n",
    "}\n",
    "]"
   ]
  },
  {
   "cell_type": "markdown",
   "id": "5c20682c-80d4-412e-8d33-a9bf76e541ca",
   "metadata": {},
   "source": [
    "ex1"
   ]
  },
  {
   "cell_type": "code",
   "execution_count": null,
   "id": "20414a4b-60df-48d4-87ec-833ff4cdd06b",
   "metadata": {},
   "outputs": [],
   "source": [
    "from Dict_of_movies import movies\n",
    "\n",
    "def check(name = \"Love\"):\n",
    "    l = [i[\"imdb\"] for i in movies if i[\"name\"]==name]\n",
    "    return l[0] > 5.5\n",
    "\n",
    "# print(check())"
   ]
  },
  {
   "cell_type": "markdown",
   "id": "bef94818-3a05-47d3-bca8-5b24c7a75f01",
   "metadata": {},
   "source": [
    "ex2"
   ]
  },
  {
   "cell_type": "code",
   "execution_count": null,
   "id": "b349c9ba-73f2-4589-8181-4b70a2485bcd",
   "metadata": {},
   "outputs": [],
   "source": [
    "from Dict_of_movies import movies\n",
    "def sublist_above_5p5():\n",
    "    l = [i[\"name\"] for i in movies if i[\"imdb\"] > 5.5]\n",
    "    return l\n",
    "\n",
    "# print(sublist_above_5p5())"
   ]
  },
  {
   "cell_type": "markdown",
   "id": "2ca92948-a17b-4ef5-91d6-46ac29a7afe8",
   "metadata": {},
   "source": [
    "ex3"
   ]
  },
  {
   "cell_type": "code",
   "execution_count": null,
   "id": "3749d156-00b3-4181-a22b-367eca67f5f1",
   "metadata": {},
   "outputs": [],
   "source": [
    "from Dict_of_movies import movies\n",
    "\n",
    "def categories(category = \"Romance\"):\n",
    "    l = [i['name'] for i in movies if i['category']==category]\n",
    "    return l\n",
    "\n",
    "# print(categories())"
   ]
  },
  {
   "cell_type": "markdown",
   "id": "789510f8-9705-49f0-b4d2-89619856d61c",
   "metadata": {},
   "source": [
    "ex4"
   ]
  },
  {
   "cell_type": "code",
   "execution_count": null,
   "id": "5dea824b-b8e3-4184-8f63-fa0b65162a57",
   "metadata": {},
   "outputs": [],
   "source": [
    "from Dict_of_movies import movies\n",
    "\n",
    "def average_imdb(l):\n",
    "    d = [i[\"imdb\"] for i in movies if i[\"name\"] in l]\n",
    "    return sum(d)/len(l)\n",
    "\n",
    "# print(average_imdb([\"Bride Wars\", \"Love\", \"Colonia\", \"The Help\", \"Usual Suspects\"]))"
   ]
  },
  {
   "cell_type": "markdown",
   "id": "0a3a04f6-a0b2-4b99-91d5-b34d0a3a7b1f",
   "metadata": {},
   "source": [
    "ex5"
   ]
  },
  {
   "cell_type": "code",
   "execution_count": null,
   "id": "7ee1bb4f-0899-4476-9e0e-69410c0dc878",
   "metadata": {},
   "outputs": [],
   "source": [
    "from Dict_of_movies import movies\n",
    "\n",
    "def category_imdb(category):\n",
    "    l = [i[\"imdb\"] for i in movies if i[\"category\"] == category]\n",
    "    return sum(l)/len(l)\n",
    "\n",
    "# print(category_imdb('Crime')) #4.0\n",
    "# print(category_imdb('Romance')) #6.7\n",
    "# print(category_imdb('Thriller')) #5.6"
   ]
  }
 ],
 "metadata": {
  "kernelspec": {
   "display_name": "Python [conda env:base] *",
   "language": "python",
   "name": "conda-base-py"
  },
  "language_info": {
   "codemirror_mode": {
    "name": "ipython",
    "version": 3
   },
   "file_extension": ".py",
   "mimetype": "text/x-python",
   "name": "python",
   "nbconvert_exporter": "python",
   "pygments_lexer": "ipython3",
   "version": "3.12.7"
  }
 },
 "nbformat": 4,
 "nbformat_minor": 5
}
