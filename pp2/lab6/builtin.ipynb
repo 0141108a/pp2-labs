{
 "cells": [
  {
   "cell_type": "code",
   "execution_count": 1,
   "id": "ddb26434-364e-4c7f-87c2-b69ac4dd7180",
   "metadata": {},
   "outputs": [],
   "source": [
    "def task1(numbers):\n",
    "    return eval('*'.join(list(map(str, numbers))))"
   ]
  },
  {
   "cell_type": "code",
   "execution_count": 3,
   "id": "22ec0630-b857-4c71-bbb8-66a18ff4370a",
   "metadata": {},
   "outputs": [],
   "source": [
    "def task2(s):\n",
    "    uppercasse = len([i for i in s if i.isupper()])\n",
    "    lowercase = len([i for i in s if i.islower()])\n",
    "    print(f'uppercase letters = {uppercasse}\\nlowercase letters = {lowercase}')"
   ]
  },
  {
   "cell_type": "code",
   "execution_count": 5,
   "id": "0d159e56-4ce3-4f34-b7f9-2861b28f3eab",
   "metadata": {},
   "outputs": [],
   "source": [
    "def task3(s):\n",
    "    print(True if s == s[::-1] else False)"
   ]
  },
  {
   "cell_type": "code",
   "execution_count": 7,
   "id": "380d6179-54c2-4caf-a38d-7d5dc380df58",
   "metadata": {},
   "outputs": [],
   "source": [
    "def task4():\n",
    "    from time import sleep\n",
    "    num = int(input())\n",
    "    sleepTime = int(input())\n",
    "    sleep(sleepTime / 1000)\n",
    "    print(f'Square root of {num} after {sleepTime} miliseconds is {num**0.5}')"
   ]
  },
  {
   "cell_type": "code",
   "execution_count": 9,
   "id": "aee873c6-7106-40c4-a033-1a427e21864b",
   "metadata": {},
   "outputs": [],
   "source": [
    "def task5(tup):\n",
    "    return True if all(tup) else False"
   ]
  }
 ],
 "metadata": {
  "kernelspec": {
   "display_name": "Python [conda env:base] *",
   "language": "python",
   "name": "conda-base-py"
  },
  "language_info": {
   "codemirror_mode": {
    "name": "ipython",
    "version": 3
   },
   "file_extension": ".py",
   "mimetype": "text/x-python",
   "name": "python",
   "nbconvert_exporter": "python",
   "pygments_lexer": "ipython3",
   "version": "3.12.7"
  }
 },
 "nbformat": 4,
 "nbformat_minor": 5
}
