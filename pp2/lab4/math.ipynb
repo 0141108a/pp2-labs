{
 "cells": [
  {
   "cell_type": "markdown",
   "id": "35a8e02a-4063-4942-9dfb-7a70823ac229",
   "metadata": {},
   "source": [
    "ex1"
   ]
  },
  {
   "cell_type": "code",
   "execution_count": null,
   "id": "610d45ce-6af6-4494-971c-f5a688187127",
   "metadata": {},
   "outputs": [],
   "source": [
    "import math\n",
    "\n",
    "degree = float(input())\n",
    "radian = math.radians(degree)\n",
    "print(f\"Output radian: {radian:.6f}\")"
   ]
  },
  {
   "cell_type": "markdown",
   "id": "bbe0dbce-eae5-4993-9098-d8a036b089ae",
   "metadata": {},
   "source": [
    "ex2"
   ]
  },
  {
   "cell_type": "code",
   "execution_count": null,
   "id": "0cddcd84-f56e-4b28-9ade-c3ed5b43ce06",
   "metadata": {},
   "outputs": [],
   "source": [
    "height = float(input())\n",
    "base1 = float(input())\n",
    "base2 = float(input())\n",
    "area = 0.5 * (base1 + base2) * height\n",
    "print(f\"Expected Output: {area}\")"
   ]
  },
  {
   "cell_type": "markdown",
   "id": "2f120362-8b85-401a-871e-e9e82ec991ea",
   "metadata": {},
   "source": [
    "ex3"
   ]
  },
  {
   "cell_type": "code",
   "execution_count": null,
   "id": "86d47bc5-a879-49a5-9f36-6a5bac69839d",
   "metadata": {},
   "outputs": [],
   "source": [
    "sides = int(input())\n",
    "length = float(input())\n",
    "area = (sides * length ** 2) / (4 * math.tan(math.pi / sides))\n",
    "print(f\"The area of the polygon is: {area}\")"
   ]
  },
  {
   "cell_type": "markdown",
   "id": "d1853edb-3baf-401e-a779-9465af9caf5a",
   "metadata": {},
   "source": [
    "ex4"
   ]
  },
  {
   "cell_type": "code",
   "execution_count": null,
   "id": "0ce1b330-f8b1-4e07-b4b0-73286735e850",
   "metadata": {},
   "outputs": [],
   "source": [
    "base = float(input())\n",
    "height = float(input())\n",
    "area = base * height\n",
    "print(f\"Expected Output: {area}\")"
   ]
  }
 ],
 "metadata": {
  "kernelspec": {
   "display_name": "Python [conda env:base] *",
   "language": "python",
   "name": "conda-base-py"
  },
  "language_info": {
   "codemirror_mode": {
    "name": "ipython",
    "version": 3
   },
   "file_extension": ".py",
   "mimetype": "text/x-python",
   "name": "python",
   "nbconvert_exporter": "python",
   "pygments_lexer": "ipython3",
   "version": "3.12.7"
  }
 },
 "nbformat": 4,
 "nbformat_minor": 5
}
