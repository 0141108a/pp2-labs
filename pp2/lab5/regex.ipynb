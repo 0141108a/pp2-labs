{
 "cells": [
  {
   "cell_type": "code",
   "execution_count": 3,
   "id": "6d089129-8bd1-45b2-8dcb-aebed3e2ccbe",
   "metadata": {},
   "outputs": [],
   "source": [
    "import re\n",
    "\n",
    "def match_a_followed_by_b(s):\n",
    "    return re.fullmatch(r'a*b*', s) is not None\n",
    "\n",
    "def match_a_followed_by_two_or_three_b(s):\n",
    "    return re.fullmatch(r'ab{2,3}', s) is not None\n",
    "\n",
    "def find_lowercase_with_underscore(s):\n",
    "    return re.findall(r'\\b[a-z]+_[a-z]+\\b', s)\n",
    "\n",
    "def find_upper_followed_by_lower(s):\n",
    "    return re.findall(r'[A-Z][a-z]+', s)\n",
    "\n",
    "def match_a_followed_by_anything_ending_b(s):\n",
    "    return re.fullmatch(r'a.*b', s) is not None\n",
    "\n",
    "def replace_spaces_commas_dots(s):\n",
    "    return re.sub(r'[ ,.]', ':', s)\n",
    "\n",
    "def snake_to_camel(s):\n",
    "    return ''.join(word.capitalize() for word in s.split('_'))\n",
    "\n",
    "def split_at_uppercase(s):\n",
    "    return re.split(r'(?=[A-Z])', s)\n",
    "\n",
    "def insert_spaces_at_capitals(s):\n",
    "    return re.sub(r'([A-Z])', r' \\1', s).strip()\n",
    "\n",
    "def camel_to_snake(s):\n",
    "    return re.sub(r'(?<!^)(?=[A-Z])', '_', s).lower()\n"
   ]
  },
  {
   "cell_type": "code",
   "execution_count": 6,
   "id": "7170ba97-39a3-408f-8728-ffb5fe6253af",
   "metadata": {},
   "outputs": [
    {
     "name": "stdout",
     "output_type": "stream",
     "text": [
      "True\n",
      "['hello_world', 'test_case']\n",
      "Hello::world::Python:regex\n",
      "SnakeCaseString\n",
      "camel_case_string\n"
     ]
    }
   ],
   "source": [
    "print(match_a_followed_by_b(\"abbb\")) \n",
    "print(find_lowercase_with_underscore(\"hello_world test_case\"))  \n",
    "print(replace_spaces_commas_dots(\"Hello, world. Python regex\"))  \n",
    "print(snake_to_camel(\"snake_case_string\"))  \n",
    "print(camel_to_snake(\"CamelCaseString\")) "
   ]
  },
  {
   "cell_type": "code",
   "execution_count": 8,
   "id": "2be67f73-5415-4c79-b1a6-967e35a4f7eb",
   "metadata": {},
   "outputs": [
    {
     "name": "stdout",
     "output_type": "stream",
     "text": [
      "[]\n"
     ]
    }
   ],
   "source": [
    "with open('row.txt', 'r', encoding='utf-8') as file:\n",
    "    content = file.read()\n",
    "\n",
    "print(find_lowercase_with_underscore(content))"
   ]
  }
 ],
 "metadata": {
  "kernelspec": {
   "display_name": "Python [conda env:base] *",
   "language": "python",
   "name": "conda-base-py"
  },
  "language_info": {
   "codemirror_mode": {
    "name": "ipython",
    "version": 3
   },
   "file_extension": ".py",
   "mimetype": "text/x-python",
   "name": "python",
   "nbconvert_exporter": "python",
   "pygments_lexer": "ipython3",
   "version": "3.12.7"
  }
 },
 "nbformat": 4,
 "nbformat_minor": 5
}
