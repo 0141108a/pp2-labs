{
 "cells": [
  {
   "cell_type": "markdown",
   "id": "30e23d42-b2ce-4896-8215-8ee81b5e6f9b",
   "metadata": {},
   "source": [
    "ex1"
   ]
  },
  {
   "cell_type": "code",
   "execution_count": null,
   "id": "1a0c757d-dd22-4e03-9b06-1c56d62824f2",
   "metadata": {},
   "outputs": [],
   "source": [
    "def square_generator(n):\n",
    "    for i in range(n + 1):\n",
    "        yield i ** 2\n",
    "\n",
    "n = int(input())\n",
    "for square in square_generator(n):\n",
    "    print(square)"
   ]
  },
  {
   "cell_type": "markdown",
   "id": "acebc88a-02cc-4207-92ce-4582ad90d4d7",
   "metadata": {},
   "source": [
    "ex2"
   ]
  },
  {
   "cell_type": "code",
   "execution_count": null,
   "id": "224aaede-93fe-4d64-bf60-e412cc804f29",
   "metadata": {},
   "outputs": [],
   "source": [
    "def even_numbers_generator(n):\n",
    "    for i in range(n + 1):\n",
    "        if i % 2 == 0:\n",
    "            yield i\n",
    "\n",
    "n = int(input())\n",
    "even_numbers = list(even_numbers_generator(n))\n",
    "print(\",\".join(map(str, even_numbers)))"
   ]
  },
  {
   "cell_type": "markdown",
   "id": "454ba3bd-b2d5-4e6e-8936-62c755de0733",
   "metadata": {},
   "source": [
    "ex3"
   ]
  },
  {
   "cell_type": "code",
   "execution_count": null,
   "id": "3f49f43b-d052-45be-861c-8a63abc6126b",
   "metadata": {},
   "outputs": [],
   "source": [
    "def divisible_by_3_and_4_generator(n):\n",
    "    for i in range(n + 1):\n",
    "        if i % 3 == 0 and i % 4 == 0:\n",
    "            yield i\n",
    "\n",
    "n = int(input())\n",
    "for number in divisible_by_3_and_4_generator(n):\n",
    "    print(number)"
   ]
  },
  {
   "cell_type": "markdown",
   "id": "26d8d40f-9c9f-4fea-8c60-6417abf180ef",
   "metadata": {},
   "source": [
    "ex4"
   ]
  },
  {
   "cell_type": "code",
   "execution_count": null,
   "id": "04dd2c74-81ae-48c1-a238-a5f36247be6a",
   "metadata": {},
   "outputs": [],
   "source": [
    "def squares(a, b):\n",
    "    for i in range(a, b + 1):\n",
    "        yield i ** 2\n",
    "\n",
    "a = int(input())\n",
    "b = int(input())\n",
    "for square in squares(a, b):\n",
    "    print(square)"
   ]
  },
  {
   "cell_type": "markdown",
   "id": "932ace90-759d-4f44-af6e-e97a45bc5b20",
   "metadata": {},
   "source": [
    "ex5"
   ]
  },
  {
   "cell_type": "code",
   "execution_count": null,
   "id": "bb8b9ada-a76a-41a9-ae5a-576146e378bf",
   "metadata": {},
   "outputs": [],
   "source": [
    "def countdown_generator(n):\n",
    "    while n >= 0:\n",
    "        yield n\n",
    "        n -= 1\n",
    "\n",
    "n = int(input())\n",
    "for number in countdown_generator(n):\n",
    "    print(number)"
   ]
  }
 ],
 "metadata": {
  "kernelspec": {
   "display_name": "Python [conda env:base] *",
   "language": "python",
   "name": "conda-base-py"
  },
  "language_info": {
   "codemirror_mode": {
    "name": "ipython",
    "version": 3
   },
   "file_extension": ".py",
   "mimetype": "text/x-python",
   "name": "python",
   "nbconvert_exporter": "python",
   "pygments_lexer": "ipython3",
   "version": "3.12.7"
  }
 },
 "nbformat": 4,
 "nbformat_minor": 5
}
