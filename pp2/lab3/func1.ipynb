{
 "cells": [
  {
   "cell_type": "markdown",
   "id": "f58397f5-8436-4fa8-ad1b-0ec0d0349be0",
   "metadata": {},
   "source": [
    "ex 1"
   ]
  },
  {
   "cell_type": "code",
   "execution_count": null,
   "id": "82d8836e-3aa3-42c0-ac8c-cc10d8649f58",
   "metadata": {},
   "outputs": [],
   "source": [
    "def gram_to_ounce(x):\n",
    "    return 28.3495231 * x\n",
    "\n",
    "gram = int(input())\n",
    "ounce = gram_to_ounce(gram)\n",
    "\n",
    "print(ounce)"
   ]
  },
  {
   "cell_type": "markdown",
   "id": "f820a316-7f98-47e5-8f08-59b833f28915",
   "metadata": {},
   "source": [
    "ex 2"
   ]
  },
  {
   "cell_type": "code",
   "execution_count": null,
   "id": "833ad3f3-ef4e-4130-9a8b-50b135905a07",
   "metadata": {},
   "outputs": [],
   "source": [
    "def celcius(F):\n",
    "    return 5/9 * (F-32)\n",
    "print(celcius(int(input())))"
   ]
  },
  {
   "cell_type": "markdown",
   "id": "8a336a62-8eac-4bfb-92eb-a3fe5cc6681c",
   "metadata": {},
   "source": [
    "ex 3"
   ]
  },
  {
   "cell_type": "code",
   "execution_count": null,
   "id": "ff62ade9-1e61-4368-82b9-0aaaa647d867",
   "metadata": {},
   "outputs": [],
   "source": [
    "\"\"\" \n",
    "    r + c = 35     (1 1 | 35)               (1  1 | 35)                (1 1 | 35)              (1 0 | 12)\n",
    "    4r + 2c = 94   (4 2 | 94)  R2->-4R1+R2  (0 -2 |-46)  R2->-(1/2)R2  (0 1 | 23)  R1->-R2+R1  (0 1 | 23) \n",
    "\n",
    "    (r) = (12)\n",
    "    (c) = (35)\n",
    "\n",
    "    by formula: c = -(numleg-4*numhead)/2,  r = numhead-c\n",
    "\"\"\"\n",
    "\n",
    "def solve(numheads, numlegs):\n",
    "    c = -(numlegs-4*numheads)/2\n",
    "    r = numheads-c\n",
    "    return r, c\n",
    "\n",
    "print(solve(35, 94))"
   ]
  },
  {
   "cell_type": "markdown",
   "id": "a1562c7a-e62a-4d66-b6c9-61f5e0954ea4",
   "metadata": {},
   "source": [
    "ex 4"
   ]
  },
  {
   "cell_type": "code",
   "execution_count": null,
   "id": "90424217-388e-40d6-ab80-f183ce4d7e57",
   "metadata": {},
   "outputs": [],
   "source": [
    "def filter_prime(l):\n",
    "    nwl = []\n",
    "    for i in l:\n",
    "        if i < 1:\n",
    "            continue\n",
    "        check = True\n",
    "        for j in range(2, int(pow(i, 1/2))+1):\n",
    "            if i%j == 0:\n",
    "                check = False\n",
    "                break\n",
    "        if check:\n",
    "            nwl.append(i)\n",
    "    return nwl\n",
    "#You are given list of numbers separated by spaces\n",
    "arr = list(map(int, input().split()))\n",
    "\n",
    "print(filter_prime(arr))"
   ]
  },
  {
   "cell_type": "markdown",
   "id": "93aac5af-5fab-4023-a64d-7fc9b96d387a",
   "metadata": {},
   "source": [
    "ex5"
   ]
  },
  {
   "cell_type": "code",
   "execution_count": null,
   "id": "f4929e32-973f-4ca1-88d2-7e2f2125a317",
   "metadata": {},
   "outputs": [],
   "source": [
    "from itertools import permutations\n",
    "\n",
    "def perm(s):\n",
    "    return list(permutations(s))\n",
    "\n",
    "\n",
    "a = perm('abc')\n",
    "for i in a:\n",
    "    print(i)\n",
    "\n",
    "\n",
    "\n",
    "\n",
    "\n",
    "# out=[]\n",
    "# def perm(msg, i, length):\n",
    "#     if i==length:\n",
    "#         out.append(\"\".join(msg))\n",
    "#     else:\n",
    "#         for j in range(i, length):\n",
    "#             msg[i], msg[j] = msg[j], msg[i]\n",
    "#             perm(msg, i+1, length)\n",
    "#             msg[j], msg[i] = msg[i], msg[j]\n",
    "\n",
    "# msg=\"acb\"\n",
    "# perm(list(msg), 0, len(msg))\n",
    "# print(out)"
   ]
  },
  {
   "cell_type": "markdown",
   "id": "85dd8618-2174-438a-891a-9445a032b5fb",
   "metadata": {},
   "source": [
    "ex6"
   ]
  },
  {
   "cell_type": "code",
   "execution_count": null,
   "id": "abaf618e-83af-4ce8-b4e3-a84b71614483",
   "metadata": {},
   "outputs": [],
   "source": [
    "def reversed(s = input()):\n",
    "    return s[::-1]\n",
    "\n",
    "s = reversed()\n",
    "print(s)"
   ]
  },
  {
   "cell_type": "markdown",
   "id": "c645b0bb-ad40-4c75-a024-23aa6956a2a5",
   "metadata": {},
   "source": [
    "ex7"
   ]
  },
  {
   "cell_type": "code",
   "execution_count": null,
   "id": "eb17852f-efad-4ea2-8f6d-ab2de7caf0a9",
   "metadata": {},
   "outputs": [],
   "source": [
    "def has_33(nums):\n",
    "    d = [i for i, el in enumerate(nums) if el==3]\n",
    "    for i in range(len(d)-1):\n",
    "        if d[i+1]-d[i] == 1:\n",
    "            return True\n",
    "    return False\n",
    "\n",
    "has_33([1, 3, 3])\n",
    "has_33([1, 3, 1, 3])\n",
    "has_33([3, 1, 3])\n",
    "\n",
    "# print(has_33([1, 3, 3]))\n",
    "# print(has_33([1, 3, 1, 3]))\n",
    "# print(has_33([3, 1, 3]))"
   ]
  },
  {
   "cell_type": "markdown",
   "id": "34cb41fa-8e06-4056-bb73-4eefb76c559a",
   "metadata": {},
   "source": [
    "ex8"
   ]
  },
  {
   "cell_type": "code",
   "execution_count": null,
   "id": "125ae403-8a12-40b8-b0ff-563ae6744172",
   "metadata": {},
   "outputs": [],
   "source": [
    "def spy_game(nums):\n",
    "    id = -1\n",
    "    while True:\n",
    "        try:\n",
    "            id = nums.index(7, id+1)\n",
    "            if nums[:id].count(0) >= 2:\n",
    "                return True\n",
    "        except:\n",
    "            #return False\n",
    "            break\n",
    "    return False\n",
    "\n",
    "spy_game([1,2,4,0,0,7,5]) #True\n",
    "spy_game([1,0,2,4,0,5,7]) #True\n",
    "spy_game([1,7,2,0,4,5,0]) #False\n",
    "\n",
    "\n",
    "print(spy_game([1,2,4,0,0,7,5])) #True\n",
    "print(spy_game([1,0,2,4,0,5,7])) #True\n",
    "print(spy_game([1,7,2,0,4,5,0])) #False"
   ]
  },
  {
   "cell_type": "markdown",
   "id": "1438be77-c6a2-4d25-8563-a6ca0a045cea",
   "metadata": {},
   "source": [
    "ex9"
   ]
  },
  {
   "cell_type": "code",
   "execution_count": null,
   "id": "064cbdeb-2252-4276-acc9-7b0e0ad5e695",
   "metadata": {},
   "outputs": [],
   "source": [
    "import math\n",
    "def v(r):\n",
    "    return 4/3 * math.pi * pow(r, 3)\n",
    "\n",
    "if __name__ == \"__main__\":\n",
    "    r = int(input())\n",
    "    print(f'Volume = {v(r)}')"
   ]
  },
  {
   "cell_type": "markdown",
   "id": "a899e198-794f-46d9-ad44-8d63a8c52f95",
   "metadata": {},
   "source": [
    "ex10"
   ]
  },
  {
   "cell_type": "code",
   "execution_count": null,
   "id": "866fcaf0-e32c-4570-8e03-d50ecf32b505",
   "metadata": {},
   "outputs": [],
   "source": [
    "def unique(l):\n",
    "    d = []\n",
    "    for i in l:\n",
    "        if i not in d: \n",
    "            d.append(i)\n",
    "    return d\n",
    "if __name__ == \"__main__\":\n",
    "    l = list(map(int, input().split()))\n",
    "\n",
    "    new = unique(l)\n",
    "\n",
    "    print(new)"
   ]
  },
  {
   "cell_type": "markdown",
   "id": "0f4f1e8b-bf65-4df3-824a-43bab982b235",
   "metadata": {},
   "source": [
    "ex11"
   ]
  },
  {
   "cell_type": "code",
   "execution_count": null,
   "id": "e8017898-0a91-4516-bc51-1f5ef43f6cf8",
   "metadata": {},
   "outputs": [],
   "source": [
    "def palindrome(s):\n",
    "    return s[::-1] == s\n",
    "\n",
    "if __name__ == \"__main__\":\n",
    "    s = input()\n",
    "    print(palindrome(s))"
   ]
  },
  {
   "cell_type": "markdown",
   "id": "0c3345c2-9383-4daa-9d4b-8cd0d6e4e356",
   "metadata": {},
   "source": [
    "ex12"
   ]
  },
  {
   "cell_type": "code",
   "execution_count": null,
   "id": "c4d1f456-c208-459e-8ff4-2be3c298a70e",
   "metadata": {},
   "outputs": [],
   "source": [
    "def histogram(l):\n",
    "    for i in l:\n",
    "        print('*'*i)\n",
    "\n",
    "histogram([4, 9, 7])"
   ]
  },
  {
   "cell_type": "markdown",
   "id": "bce47c08-0ce9-417e-9330-1d05171e0051",
   "metadata": {},
   "source": [
    "ex13"
   ]
  },
  {
   "cell_type": "code",
   "execution_count": null,
   "id": "2f812fff-ce9c-44ae-a167-7558ff80f2cb",
   "metadata": {},
   "outputs": [],
   "source": [
    "import random\n",
    "def guess(num, i = 0):\n",
    "    print('Take a guess.')\n",
    "    n = int(input())\n",
    "    if n < num:\n",
    "        print('\\nYour guess is too low.')\n",
    "        return guess(num, i+1)\n",
    "    elif n > num:\n",
    "        print('\\nYour guess is too high.')\n",
    "        return guess(num, i+1)\n",
    "    else:\n",
    "        return i+1\n",
    "    \n",
    "if __name__ == \"__main__\":\n",
    "    num = random.randint(1, 20)\n",
    "    name = input('Hello! What is your name?\\n')\n",
    "    print(f'\\nWell, {name}, I am thinking of a number between 1 and 20.')\n",
    "\n",
    "    attempts = guess(num)\n",
    "    print(f'\\nGood job, {name}! You guessed my number in {attempts} guesses!')"
   ]
  },
  {
   "cell_type": "markdown",
   "id": "46dcb9de-d1a4-4694-a9e3-496f526be777",
   "metadata": {},
   "source": [
    "ex14"
   ]
  },
  {
   "cell_type": "code",
   "execution_count": null,
   "id": "fa795f7d-2370-4b6e-9b67-2386d79937e8",
   "metadata": {},
   "outputs": [],
   "source": [
    "import ex09, ex10, ex11, ex13\n",
    "\n",
    "#Volume\n",
    "r = int(input(\"Radius of sphere - \"))\n",
    "print(f'Volume of sphere = {ex09.v(r)}')\n",
    "\n",
    "\n",
    "#Uniques\n",
    "l = list(map(int, input(\"write a list - \").split()))\n",
    "print(f'Uniques = {ex10.unique(l)}')\n",
    "\n",
    "\n",
    "#Palindrom\n",
    "s = input(\"Write a sectence to check palindrom - \")\n",
    "if ex11.palindrome(s):\n",
    "    print(\"It's a palindrom\")\n",
    "else:\n",
    "    print(\"Nope, it isn't palindrom\")\n",
    "\n",
    "\n",
    "#Play a game\n",
    "print(\"\\nPlay a game, guess number 1:30\")\n",
    "from random import randint\n",
    "mynum = randint(1, 30)\n",
    "att = ex13.guess(mynum)\n",
    "print(f\"You're right, {att} - attemps needed\")"
   ]
  }
 ],
 "metadata": {
  "kernelspec": {
   "display_name": "Python [conda env:base] *",
   "language": "python",
   "name": "conda-base-py"
  },
  "language_info": {
   "codemirror_mode": {
    "name": "ipython",
    "version": 3
   },
   "file_extension": ".py",
   "mimetype": "text/x-python",
   "name": "python",
   "nbconvert_exporter": "python",
   "pygments_lexer": "ipython3",
   "version": "3.12.7"
  }
 },
 "nbformat": 4,
 "nbformat_minor": 5
}
