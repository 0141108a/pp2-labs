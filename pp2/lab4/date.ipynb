{
 "cells": [
  {
   "cell_type": "markdown",
   "id": "d8c111d6-752f-4f0f-a929-c84eaddc2362",
   "metadata": {},
   "source": [
    "ex1"
   ]
  },
  {
   "cell_type": "code",
   "execution_count": 15,
   "id": "486bcb48-8efa-44d5-b729-23ea4b0e4680",
   "metadata": {},
   "outputs": [
    {
     "name": "stdout",
     "output_type": "stream",
     "text": [
      "Now: 2025-02-04\n",
      "Five days ago: 2025-01-30\n"
     ]
    }
   ],
   "source": [
    "from datetime import datetime, timedelta\n",
    "\n",
    "now = datetime.now()\n",
    "five_days_ago = now - timedelta(days=5)\n",
    "\n",
    "print(\"Now:\", now.date())\n",
    "print(\"Five days ago:\", five_days_ago.date())"
   ]
  },
  {
   "cell_type": "markdown",
   "id": "54738f79-7cbf-4824-a5b4-436a85d500cc",
   "metadata": {},
   "source": [
    "ex2"
   ]
  },
  {
   "cell_type": "code",
   "execution_count": 17,
   "id": "6cb21518-2afe-42fa-96ed-e7cbca74b610",
   "metadata": {},
   "outputs": [
    {
     "name": "stdout",
     "output_type": "stream",
     "text": [
      "Yesterday: 2025-02-03\n",
      "Today: 2025-02-04\n",
      "Tomorrow: 2025-02-05\n"
     ]
    }
   ],
   "source": [
    "from datetime import datetime, timedelta\n",
    "\n",
    "today = datetime.now()\n",
    "yesterday = today - timedelta(days=1)\n",
    "tomorrow = today + timedelta(days=1)\n",
    "\n",
    "print(\"Yesterday:\", yesterday.date())\n",
    "print(\"Today:\", today.date())\n",
    "print(\"Tomorrow:\", tomorrow.date())"
   ]
  },
  {
   "cell_type": "markdown",
   "id": "fda220f8-a63c-4ff0-becf-45ad2ad8ce69",
   "metadata": {},
   "source": [
    "ex3"
   ]
  },
  {
   "cell_type": "code",
   "execution_count": 19,
   "id": "ddbdf9d6-204b-4aa5-9ad4-c7c91de31bf6",
   "metadata": {},
   "outputs": [
    {
     "name": "stdout",
     "output_type": "stream",
     "text": [
      "With microseconds: 2025-02-04 02:47:39.619782\n",
      "Without microseconds: 2025-02-04 02:47:39\n"
     ]
    }
   ],
   "source": [
    "from datetime import datetime\n",
    "\n",
    "now = datetime.now()\n",
    "no_microseconds = now.replace(microsecond=0)\n",
    "\n",
    "print(\"With microseconds:\", now)\n",
    "print(\"Without microseconds:\", no_microseconds)"
   ]
  },
  {
   "cell_type": "markdown",
   "id": "1969450f-f7b2-4c66-a2a4-3f750aadf2ef",
   "metadata": {},
   "source": [
    "ex4"
   ]
  },
  {
   "cell_type": "code",
   "execution_count": 21,
   "id": "68f228eb-ad21-4227-9103-3abe1a3daee5",
   "metadata": {},
   "outputs": [
    {
     "name": "stdout",
     "output_type": "stream",
     "text": [
      "Difference in seconds: 94500.0 seconds\n"
     ]
    }
   ],
   "source": [
    "from datetime import datetime\n",
    "\n",
    "start = datetime(2025, 2, 4, 10, 30)\n",
    "end = datetime(2025, 2, 5, 12, 45)\n",
    "\n",
    "difference = end - start\n",
    "print(f\"Difference in seconds: {difference.total_seconds()} seconds\")"
   ]
  }
 ],
 "metadata": {
  "kernelspec": {
   "display_name": "Python [conda env:base] *",
   "language": "python",
   "name": "conda-base-py"
  },
  "language_info": {
   "codemirror_mode": {
    "name": "ipython",
    "version": 3
   },
   "file_extension": ".py",
   "mimetype": "text/x-python",
   "name": "python",
   "nbconvert_exporter": "python",
   "pygments_lexer": "ipython3",
   "version": "3.12.7"
  }
 },
 "nbformat": 4,
 "nbformat_minor": 5
}
