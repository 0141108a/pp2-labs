{
 "cells": [
  {
   "cell_type": "code",
   "execution_count": 1,
   "id": "c174b256-c1bf-4992-9dc9-21d7cc9d9135",
   "metadata": {},
   "outputs": [
    {
     "name": "stdout",
     "output_type": "stream",
     "text": [
      "Hello, World!\n"
     ]
    }
   ],
   "source": [
    "print(\"Hello, World!\")"
   ]
  },
  {
   "cell_type": "markdown",
   "id": "e77b9256-b2e3-44d1-891d-90aef6139f0b",
   "metadata": {},
   "source": [
    "Python Indentation"
   ]
  },
  {
   "cell_type": "code",
   "execution_count": 16,
   "id": "286daba8-9fdd-45d2-b40d-c0709d452abc",
   "metadata": {},
   "outputs": [
    {
     "name": "stdout",
     "output_type": "stream",
     "text": [
      "nine is greater than three!\n"
     ]
    }
   ],
   "source": [
    "if 9 > 3:\n",
    "  print(\"nine is greater than three!\")"
   ]
  },
  {
   "cell_type": "code",
   "execution_count": 18,
   "id": "61be701d-0746-4081-b00a-ee4976868ec0",
   "metadata": {},
   "outputs": [
    {
     "ename": "IndentationError",
     "evalue": "expected an indented block after 'if' statement on line 1 (1363919798.py, line 2)",
     "output_type": "error",
     "traceback": [
      "\u001b[1;36m  Cell \u001b[1;32mIn[18], line 2\u001b[1;36m\u001b[0m\n\u001b[1;33m    print(\"nine is greater than three!\")\u001b[0m\n\u001b[1;37m    ^\u001b[0m\n\u001b[1;31mIndentationError\u001b[0m\u001b[1;31m:\u001b[0m expected an indented block after 'if' statement on line 1\n"
     ]
    }
   ],
   "source": [
    "if 9 > 3:\n",
    "print(\"nine is greater than three!\")"
   ]
  },
  {
   "cell_type": "code",
   "execution_count": 20,
   "id": "0292efdc-093d-4594-879b-f8c9ab44816d",
   "metadata": {},
   "outputs": [
    {
     "name": "stdout",
     "output_type": "stream",
     "text": [
      "nine is greater than three!\n"
     ]
    }
   ],
   "source": [
    "if 9 > 3:\n",
    "      print(\"nine is greater than three!\")"
   ]
  },
  {
   "cell_type": "code",
   "execution_count": 22,
   "id": "5cb82c91-07a8-46bf-8d69-36d607102824",
   "metadata": {},
   "outputs": [
    {
     "ename": "IndentationError",
     "evalue": "unexpected indent (3600359438.py, line 3)",
     "output_type": "error",
     "traceback": [
      "\u001b[1;36m  Cell \u001b[1;32mIn[22], line 3\u001b[1;36m\u001b[0m\n\u001b[1;33m    print(\"nine is greater than three!\")\u001b[0m\n\u001b[1;37m    ^\u001b[0m\n\u001b[1;31mIndentationError\u001b[0m\u001b[1;31m:\u001b[0m unexpected indent\n"
     ]
    }
   ],
   "source": [
    "if 9 > 3:\n",
    "  print(\"nine is greater than three!\")\n",
    "      print(\"nine is greater than three!\")"
   ]
  },
  {
   "cell_type": "markdown",
   "id": "e9faf916-6115-4383-8e25-802155e297a7",
   "metadata": {},
   "source": [
    " Variables"
   ]
  },
  {
   "cell_type": "code",
   "execution_count": 25,
   "id": "902a0e40-79ad-4d09-9492-805b071aad43",
   "metadata": {},
   "outputs": [],
   "source": [
    "x = 8\n",
    "y = \"Hello, World!\""
   ]
  },
  {
   "cell_type": "code",
   "execution_count": 39,
   "id": "84fe4959-fa42-4704-bd5d-6132ffbb4073",
   "metadata": {},
   "outputs": [
    {
     "name": "stdout",
     "output_type": "stream",
     "text": [
      "8\n",
      "ok\n"
     ]
    }
   ],
   "source": [
    "x = 8\n",
    "y = \"ok\"\n",
    "print(x)\n",
    "print(y)"
   ]
  },
  {
   "cell_type": "code",
   "execution_count": 41,
   "id": "116bead7-240e-4afe-a423-ae9f0657be31",
   "metadata": {},
   "outputs": [
    {
     "name": "stdout",
     "output_type": "stream",
     "text": [
      "ok\n"
     ]
    }
   ],
   "source": [
    "x = 8\n",
    "x = \"ok\"\n",
    "print(x)"
   ]
  },
  {
   "cell_type": "code",
   "execution_count": 43,
   "id": "55a39808-850c-416c-aba5-df018e5a7bea",
   "metadata": {},
   "outputs": [
    {
     "name": "stdout",
     "output_type": "stream",
     "text": [
      "8\n",
      "8\n",
      "8.0\n"
     ]
    }
   ],
   "source": [
    "x = str(8)\n",
    "y = int(8)   \n",
    "z = float(8)\n",
    "print(x)\n",
    "print(y)\n",
    "print(z)"
   ]
  },
  {
   "cell_type": "code",
   "execution_count": 45,
   "id": "7cc0fd43-ef5f-4eb1-8cf6-7a9d7fee6270",
   "metadata": {},
   "outputs": [
    {
     "name": "stdout",
     "output_type": "stream",
     "text": [
      "<class 'int'>\n",
      "<class 'str'>\n"
     ]
    }
   ],
   "source": [
    "x = 8\n",
    "y = \"ok\"\n",
    "print(type(x))\n",
    "print(type(y))"
   ]
  },
  {
   "cell_type": "code",
   "execution_count": 47,
   "id": "62500e7f-d83e-42c7-906c-57e3cd45acc8",
   "metadata": {},
   "outputs": [
    {
     "name": "stdout",
     "output_type": "stream",
     "text": [
      "ok\n"
     ]
    }
   ],
   "source": [
    "x = \"ok\"\n",
    "x = 'ok'\n",
    "print(x)"
   ]
  },
  {
   "cell_type": "code",
   "execution_count": 55,
   "id": "6567f1f0-b333-45c8-b7fb-1bfc2bca4db2",
   "metadata": {},
   "outputs": [
    {
     "name": "stdout",
     "output_type": "stream",
     "text": [
      "8\n",
      "ok\n"
     ]
    }
   ],
   "source": [
    "a = 8\n",
    "A = \"ok\"\n",
    "print(a)\n",
    "print(A)"
   ]
  },
  {
   "cell_type": "code",
   "execution_count": null,
   "id": "686a59c8-d3fd-4bdb-89a4-497fc5c35b04",
   "metadata": {},
   "outputs": [],
   "source": [
    "#Legal variable names:\n",
    "myvar = \"abc\"\n",
    "my_var = \"abc\"\n",
    "_my_var = \"abc\"\n",
    "myVar = \"abc\"\n",
    "MYVAR = \"abc\"\n",
    "myvar2 = \"abc\"\n",
    "\n",
    "#Illegal variable names:\n",
    "2myvar = \"abc\"\n",
    "my-var = \"abc\"\n",
    "my var = \"abc\""
   ]
  },
  {
   "cell_type": "code",
   "execution_count": null,
   "id": "02310738-ebe3-45df-9679-39b19d17fcb7",
   "metadata": {},
   "outputs": [],
   "source": [
    "myVar = 8 #Camel Case\n",
    "MyVar = 8 #Pascal Case\n",
    "my_var = 8 #Snake Case"
   ]
  },
  {
   "cell_type": "code",
   "execution_count": 57,
   "id": "aeb4c810-5967-48ae-a278-81e161c34c7a",
   "metadata": {},
   "outputs": [
    {
     "name": "stdout",
     "output_type": "stream",
     "text": [
      "apple\n",
      "banana\n",
      "cherry\n"
     ]
    }
   ],
   "source": [
    "x, y, z = \"apple\", \"banana\", \"cherry\"\n",
    "print(x)\n",
    "print(y)\n",
    "print(z)"
   ]
  },
  {
   "cell_type": "code",
   "execution_count": 59,
   "id": "f85d0ced-fb86-404f-9dc1-e238e35a2669",
   "metadata": {},
   "outputs": [
    {
     "name": "stdout",
     "output_type": "stream",
     "text": [
      "cherry\n",
      "cherry\n",
      "cherry\n"
     ]
    }
   ],
   "source": [
    "x = y = z = \"cherry\"\n",
    "print(x)\n",
    "print(y)\n",
    "print(z)"
   ]
  },
  {
   "cell_type": "code",
   "execution_count": 61,
   "id": "ef8bb073-fd31-47f4-bd5f-056251cd0fd8",
   "metadata": {},
   "outputs": [
    {
     "name": "stdout",
     "output_type": "stream",
     "text": [
      "apple\n",
      "banana\n",
      "cherry\n"
     ]
    }
   ],
   "source": [
    "fruits = [\"apple\", \"banana\", \"cherry\"]\n",
    "x, y, z = fruits\n",
    "print(x)\n",
    "print(y)\n",
    "print(z)"
   ]
  },
  {
   "cell_type": "code",
   "execution_count": 63,
   "id": "8ccdb7ea-6a83-4c15-9529-8a212c679eac",
   "metadata": {},
   "outputs": [
    {
     "name": "stdout",
     "output_type": "stream",
     "text": [
      "hello world\n"
     ]
    }
   ],
   "source": [
    "x = \"hello\"\n",
    "y = \"world\"\n",
    "print(x, y)"
   ]
  },
  {
   "cell_type": "code",
   "execution_count": 65,
   "id": "3cc9cc86-2f0a-434d-869e-c8d010351968",
   "metadata": {},
   "outputs": [
    {
     "name": "stdout",
     "output_type": "stream",
     "text": [
      "helloworld\n"
     ]
    }
   ],
   "source": [
    "x = \"hello\"\n",
    "y = \"world\"\n",
    "print(x + y)"
   ]
  },
  {
   "cell_type": "code",
   "execution_count": 69,
   "id": "97a9f39d-0ce1-4cde-a82e-57fd0b804672",
   "metadata": {},
   "outputs": [
    {
     "name": "stdout",
     "output_type": "stream",
     "text": [
      "15\n"
     ]
    }
   ],
   "source": [
    "x = 6\n",
    "y = 9\n",
    "print(x + y)"
   ]
  },
  {
   "cell_type": "code",
   "execution_count": 71,
   "id": "a2581516-49df-470e-85d5-7a8e6b6ba801",
   "metadata": {},
   "outputs": [
    {
     "ename": "TypeError",
     "evalue": "unsupported operand type(s) for +: 'int' and 'str'",
     "output_type": "error",
     "traceback": [
      "\u001b[1;31m---------------------------------------------------------------------------\u001b[0m",
      "\u001b[1;31mTypeError\u001b[0m                                 Traceback (most recent call last)",
      "Cell \u001b[1;32mIn[71], line 3\u001b[0m\n\u001b[0;32m      1\u001b[0m x \u001b[38;5;241m=\u001b[39m \u001b[38;5;241m6\u001b[39m\n\u001b[0;32m      2\u001b[0m y \u001b[38;5;241m=\u001b[39m \u001b[38;5;124m'\u001b[39m\u001b[38;5;124mok\u001b[39m\u001b[38;5;124m'\u001b[39m\n\u001b[1;32m----> 3\u001b[0m \u001b[38;5;28mprint\u001b[39m(x \u001b[38;5;241m+\u001b[39m y)\n",
      "\u001b[1;31mTypeError\u001b[0m: unsupported operand type(s) for +: 'int' and 'str'"
     ]
    }
   ],
   "source": [
    "x = 6\n",
    "y = 'ok'\n",
    "print(x + y)"
   ]
  },
  {
   "cell_type": "code",
   "execution_count": 67,
   "id": "6afb31ee-ac68-4697-89b9-2f3261edf485",
   "metadata": {},
   "outputs": [
    {
     "name": "stdout",
     "output_type": "stream",
     "text": [
      "6 ok\n"
     ]
    }
   ],
   "source": [
    "x = 6\n",
    "y = 'ok'\n",
    "print(x, y)"
   ]
  },
  {
   "cell_type": "code",
   "execution_count": 73,
   "id": "49ce2c50-5138-4363-b051-459d5143541f",
   "metadata": {},
   "outputs": [
    {
     "name": "stdout",
     "output_type": "stream",
     "text": [
      "helloworld\n"
     ]
    }
   ],
   "source": [
    "x = \"world\"\n",
    "\n",
    "def myfunc():\n",
    "  print(\"hello\" + x)\n",
    "\n",
    "myfunc()"
   ]
  },
  {
   "cell_type": "code",
   "execution_count": 75,
   "id": "917a9453-2ca2-4d42-9df7-38abdab193a9",
   "metadata": {},
   "outputs": [
    {
     "name": "stdout",
     "output_type": "stream",
     "text": [
      "hellofriends\n",
      "helloworld\n"
     ]
    }
   ],
   "source": [
    "x = \"world\"\n",
    "\n",
    "def myfunc():\n",
    "    x = \"friends\"\n",
    "    print(\"hello\" + x)\n",
    "\n",
    "myfunc()\n",
    "\n",
    "print(\"hello\" + x)"
   ]
  },
  {
   "cell_type": "code",
   "execution_count": 77,
   "id": "051923fe-f2e3-49d4-b37d-c3f336e827dd",
   "metadata": {},
   "outputs": [
    {
     "name": "stdout",
     "output_type": "stream",
     "text": [
      "hello world\n"
     ]
    }
   ],
   "source": [
    "def myfunc():\n",
    "  global x\n",
    "  x = \"world\"\n",
    "\n",
    "myfunc()\n",
    "\n",
    "print(\"hello \" + x)"
   ]
  },
  {
   "cell_type": "code",
   "execution_count": 79,
   "id": "c7362dac-b423-4a08-8676-9dd55f0593f9",
   "metadata": {},
   "outputs": [
    {
     "name": "stdout",
     "output_type": "stream",
     "text": [
      "hello world\n"
     ]
    }
   ],
   "source": [
    "x = \"friends\"\n",
    "\n",
    "def myfunc():\n",
    "  global x\n",
    "  x = \"world\"\n",
    "\n",
    "myfunc()\n",
    "\n",
    "print(\"hello \" + x)"
   ]
  },
  {
   "cell_type": "markdown",
   "id": "d0327a18-80b7-4a5a-8b1a-0f3ec8eacf0a",
   "metadata": {},
   "source": [
    "Comments"
   ]
  },
  {
   "cell_type": "code",
   "execution_count": 30,
   "id": "9ed6afc9-5446-4af0-9ee7-38dc375ce97e",
   "metadata": {},
   "outputs": [],
   "source": [
    "#abc"
   ]
  },
  {
   "cell_type": "code",
   "execution_count": 32,
   "id": "23233a88-6d04-4079-9194-e76d7d696deb",
   "metadata": {},
   "outputs": [
    {
     "name": "stdout",
     "output_type": "stream",
     "text": [
      "Hello, World!\n"
     ]
    }
   ],
   "source": [
    "#print(\"Hello, World!\")\n",
    "print(\"Hello, World!\")"
   ]
  },
  {
   "cell_type": "code",
   "execution_count": 36,
   "id": "c8d11aaa-df67-45cc-b5b7-70456ee76698",
   "metadata": {},
   "outputs": [
    {
     "name": "stdout",
     "output_type": "stream",
     "text": [
      "Hello, World!\n"
     ]
    }
   ],
   "source": [
    "\"\"\"this is a comment\n",
    "written in\n",
    "more than just one line\"\"\"\n",
    "print(\"Hello, World!\")"
   ]
  },
  {
   "cell_type": "markdown",
   "id": "a134ad05-8864-4726-83c1-bc7661b5a2b8",
   "metadata": {},
   "source": [
    "Python Data Types"
   ]
  },
  {
   "cell_type": "code",
   "execution_count": 82,
   "id": "6f603793-8cc0-40a5-a8ee-9eeb627c0b0d",
   "metadata": {},
   "outputs": [
    {
     "name": "stdout",
     "output_type": "stream",
     "text": [
      "<class 'int'>\n"
     ]
    }
   ],
   "source": [
    "x = 8\n",
    "print(type(x))"
   ]
  },
  {
   "cell_type": "code",
   "execution_count": null,
   "id": "ed867796-763b-4826-924e-135715c90091",
   "metadata": {},
   "outputs": [],
   "source": [
    "x = \"Hello World\"\t#str\t\n",
    "x = 6\t#int\t\n",
    "x = 6.8\t#float\t\n",
    "x = 1j\t#complex\t\n",
    "x = [\"apple\", \"banana\", \"cherry\"]\t#list\t\n",
    "x = (\"apple\", \"banana\", \"cherry\")\t#tuple\t\n",
    "x = range(6)\t#range\t\n",
    "x = {\"name\" : \"John\", \"age\" : 36}\t#dict\t\n",
    "x = {\"apple\", \"banana\", \"cherry\"}\t#set\t\n",
    "x = frozenset({\"apple\", \"banana\", \"cherry\"})\t#frozenset\t\n",
    "x = True\t#bool\t\n",
    "x = b\"Hello\"\t#bytes\t\n",
    "x = bytearray(5)\t#bytearray\t\n",
    "x = memoryview(bytes(5))\t#memoryview\t\n",
    "x = None\t#NoneType"
   ]
  },
  {
   "cell_type": "markdown",
   "id": "0370a760-7ac2-417d-9d25-e7071b5d7f78",
   "metadata": {},
   "source": [
    "Random Numbers"
   ]
  },
  {
   "cell_type": "code",
   "execution_count": 85,
   "id": "f5405171-6c63-40cb-b2d0-964c47ede992",
   "metadata": {},
   "outputs": [
    {
     "name": "stdout",
     "output_type": "stream",
     "text": [
      "1\n"
     ]
    }
   ],
   "source": [
    "import random\n",
    "\n",
    "print(random.randrange(1, 10))"
   ]
  },
  {
   "cell_type": "markdown",
   "id": "4519ca9b-1bf7-4ac8-b170-a9f6a7eb5feb",
   "metadata": {},
   "source": [
    "Casting"
   ]
  },
  {
   "cell_type": "code",
   "execution_count": 88,
   "id": "6353d882-418e-4cf6-9a2a-104a9df27789",
   "metadata": {},
   "outputs": [
    {
     "name": "stdout",
     "output_type": "stream",
     "text": [
      "1\n",
      "2\n",
      "3\n"
     ]
    }
   ],
   "source": [
    "x = int(1)   \n",
    "y = int(2.8)\n",
    "z = int(\"3\")\n",
    "print(x)\n",
    "print(y)\n",
    "print(z)"
   ]
  },
  {
   "cell_type": "code",
   "execution_count": 90,
   "id": "8f1cd47a-09ac-45ce-ac1b-83de24ca1ae7",
   "metadata": {},
   "outputs": [
    {
     "name": "stdout",
     "output_type": "stream",
     "text": [
      "1.0\n",
      "2.8\n",
      "3.0\n"
     ]
    }
   ],
   "source": [
    "x = float(1)    \n",
    "y = float(2.8)   \n",
    "z = float(\"3\") \n",
    "print(x)\n",
    "print(y)\n",
    "print(z)"
   ]
  },
  {
   "cell_type": "code",
   "execution_count": 99,
   "id": "801c7f66-9703-443d-99a4-41d6caa77ab0",
   "metadata": {},
   "outputs": [
    {
     "name": "stdout",
     "output_type": "stream",
     "text": [
      "s1\n",
      "2\n",
      "3.0\n"
     ]
    }
   ],
   "source": [
    "x = str(\"s1\")\n",
    "y = str(2)   \n",
    "z = str(3.0)\n",
    "print(x)\n",
    "print(y)\n",
    "print(z)"
   ]
  },
  {
   "cell_type": "markdown",
   "id": "82d89119-51a3-4281-a637-c67a245ef965",
   "metadata": {},
   "source": [
    "Python Strings"
   ]
  },
  {
   "cell_type": "code",
   "execution_count": 95,
   "id": "7e01c7bf-c29f-4fa8-b622-afb67592393b",
   "metadata": {},
   "outputs": [
    {
     "name": "stdout",
     "output_type": "stream",
     "text": [
      "it's alright\n",
      "he is called 'Johnny'\n",
      "he is called \"Johnny\"\n"
     ]
    }
   ],
   "source": [
    "print(\"it's alright\")\n",
    "print(\"he is called 'Johnny'\")\n",
    "print('he is called \"Johnny\"')"
   ]
  },
  {
   "cell_type": "code",
   "execution_count": 97,
   "id": "9e767a75-53c7-4eb7-b9ab-e79bf965521d",
   "metadata": {},
   "outputs": [
    {
     "name": "stdout",
     "output_type": "stream",
     "text": [
      "akisjinskaomksnkianolnsjujnaknslojps\n"
     ]
    }
   ],
   "source": [
    "a = \"\"\"akisjinskaomksnkianolnsjujnaknslojps\"\"\"\n",
    "print(a)"
   ]
  },
  {
   "cell_type": "code",
   "execution_count": 101,
   "id": "b4eccdd2-8765-43bd-a55a-fa84dda09d37",
   "metadata": {},
   "outputs": [
    {
     "name": "stdout",
     "output_type": "stream",
     "text": [
      "akisjinskaomksnkianolnsjujnaknslojps\n"
     ]
    }
   ],
   "source": [
    "a = '''akisjinskaomksnkianolnsjujnaknslojps'''\n",
    "print(a)"
   ]
  },
  {
   "cell_type": "code",
   "execution_count": 103,
   "id": "309f7cbe-0046-4f47-9309-d4d140768c20",
   "metadata": {},
   "outputs": [
    {
     "name": "stdout",
     "output_type": "stream",
     "text": [
      "e\n"
     ]
    }
   ],
   "source": [
    "a = \"Hello World!\"\n",
    "print(a[1])"
   ]
  },
  {
   "cell_type": "code",
   "execution_count": 107,
   "id": "9f87aadd-643a-4d33-aa13-c56cce933330",
   "metadata": {},
   "outputs": [
    {
     "name": "stdout",
     "output_type": "stream",
     "text": [
      "H\n",
      "e\n",
      "l\n",
      "l\n",
      "o\n"
     ]
    }
   ],
   "source": [
    "for x in \"Hello\":\n",
    "  print(x)"
   ]
  },
  {
   "cell_type": "code",
   "execution_count": 109,
   "id": "79bd6c23-5cb7-4b8e-b94a-146f3eb4a85e",
   "metadata": {},
   "outputs": [
    {
     "name": "stdout",
     "output_type": "stream",
     "text": [
      "12\n"
     ]
    }
   ],
   "source": [
    "a = \"Hello World!\"\n",
    "print(len(a))"
   ]
  },
  {
   "cell_type": "code",
   "execution_count": 111,
   "id": "96b73f3b-ed57-4b48-af70-bf1fd1d3af17",
   "metadata": {},
   "outputs": [
    {
     "name": "stdout",
     "output_type": "stream",
     "text": [
      "True\n"
     ]
    }
   ],
   "source": [
    "txt = \"Hello World!\"\n",
    "print(\"World\" in txt)"
   ]
  },
  {
   "cell_type": "code",
   "execution_count": 115,
   "id": "0547d46b-a00d-430e-843d-392b0cf93a39",
   "metadata": {},
   "outputs": [
    {
     "name": "stdout",
     "output_type": "stream",
     "text": [
      "yes\n"
     ]
    }
   ],
   "source": [
    "txt = \"Hello World!\"\n",
    "if \"World\" in txt:\n",
    "    print('yes')"
   ]
  },
  {
   "cell_type": "code",
   "execution_count": 117,
   "id": "b90f2760-ed3d-481b-9c1c-e2b5f12ec858",
   "metadata": {},
   "outputs": [
    {
     "name": "stdout",
     "output_type": "stream",
     "text": [
      "True\n"
     ]
    }
   ],
   "source": [
    "txt = \"Hello World!\"\n",
    "print(\",\" not in txt)"
   ]
  },
  {
   "cell_type": "code",
   "execution_count": 123,
   "id": "a90fdb7b-2dbf-4652-954e-8aebb3bab5ac",
   "metadata": {},
   "outputs": [
    {
     "name": "stdout",
     "output_type": "stream",
     "text": [
      "no\n"
     ]
    }
   ],
   "source": [
    "txt = \"Hello World!\"\n",
    "if \",\" not in txt:\n",
    "    print('no')"
   ]
  },
  {
   "cell_type": "code",
   "execution_count": 125,
   "id": "035c6d29-47b9-443d-8ab2-3a4083a60995",
   "metadata": {},
   "outputs": [
    {
     "name": "stdout",
     "output_type": "stream",
     "text": [
      "llo\n"
     ]
    }
   ],
   "source": [
    "b = \"Hello World!\"\n",
    "print(b[2:5])"
   ]
  },
  {
   "cell_type": "code",
   "execution_count": 127,
   "id": "c6d54a3d-be42-4ab8-81ab-c0a29c4a0b68",
   "metadata": {},
   "outputs": [
    {
     "name": "stdout",
     "output_type": "stream",
     "text": [
      "Hello\n"
     ]
    }
   ],
   "source": [
    "b = \"Hello World!\"\n",
    "print(b[:5])"
   ]
  },
  {
   "cell_type": "code",
   "execution_count": 129,
   "id": "f854124e-df6c-4acf-91cd-ea00f0184427",
   "metadata": {},
   "outputs": [
    {
     "name": "stdout",
     "output_type": "stream",
     "text": [
      "llo World!\n"
     ]
    }
   ],
   "source": [
    "b = \"Hello World!\"\n",
    "print(b[2:])"
   ]
  },
  {
   "cell_type": "code",
   "execution_count": 131,
   "id": "2fd7734a-9cf2-42ca-9e2c-50e9b0fa11b6",
   "metadata": {},
   "outputs": [
    {
     "name": "stdout",
     "output_type": "stream",
     "text": [
      "orl\n"
     ]
    }
   ],
   "source": [
    "b = \"Hello World!\"\n",
    "print(b[-5:-2])"
   ]
  },
  {
   "cell_type": "code",
   "execution_count": 133,
   "id": "edcc7457-376c-4d1e-b838-ae21221cba7d",
   "metadata": {},
   "outputs": [
    {
     "name": "stdout",
     "output_type": "stream",
     "text": [
      "HELLO, WORLD!\n"
     ]
    }
   ],
   "source": [
    "a = \"Hello, World!\"\n",
    "print(a.upper())"
   ]
  },
  {
   "cell_type": "code",
   "execution_count": 135,
   "id": "12205c2a-1f1b-4602-9b4c-a87f6b789268",
   "metadata": {},
   "outputs": [
    {
     "name": "stdout",
     "output_type": "stream",
     "text": [
      "hello, world!\n"
     ]
    }
   ],
   "source": [
    "a = \"Hello, World!\"\n",
    "print(a.lower())"
   ]
  },
  {
   "cell_type": "code",
   "execution_count": 137,
   "id": "06cee042-6c38-44d2-834a-6c9f9727fce4",
   "metadata": {},
   "outputs": [
    {
     "name": "stdout",
     "output_type": "stream",
     "text": [
      "Hello, World!\n"
     ]
    }
   ],
   "source": [
    "a = \" Hello, World! \"\n",
    "print(a.strip())"
   ]
  },
  {
   "cell_type": "code",
   "execution_count": 139,
   "id": "3270989f-c6bc-4441-b26b-57f99a0248e8",
   "metadata": {},
   "outputs": [
    {
     "name": "stdout",
     "output_type": "stream",
     "text": [
      "Jello, World!\n"
     ]
    }
   ],
   "source": [
    "a = \"Hello, World!\"\n",
    "print(a.replace(\"H\", \"J\"))"
   ]
  },
  {
   "cell_type": "code",
   "execution_count": 141,
   "id": "55adc279-b04f-46e8-9703-0c5fce4960bf",
   "metadata": {},
   "outputs": [
    {
     "name": "stdout",
     "output_type": "stream",
     "text": [
      "['Hello', ' World!']\n"
     ]
    }
   ],
   "source": [
    "a = \"Hello, World!\"\n",
    "print(a.split(\",\"))"
   ]
  },
  {
   "cell_type": "code",
   "execution_count": 143,
   "id": "4f096fbc-39d1-4ec0-a23a-b14800301e16",
   "metadata": {},
   "outputs": [
    {
     "name": "stdout",
     "output_type": "stream",
     "text": [
      "HelloWorld\n"
     ]
    }
   ],
   "source": [
    "a = \"Hello\"\n",
    "b = \"World\"\n",
    "c = a + b\n",
    "print(c)"
   ]
  },
  {
   "cell_type": "code",
   "execution_count": 145,
   "id": "77f01289-45d9-4421-853e-c41eebcedf6f",
   "metadata": {},
   "outputs": [
    {
     "name": "stdout",
     "output_type": "stream",
     "text": [
      "Hello World\n"
     ]
    }
   ],
   "source": [
    "a = \"Hello\"\n",
    "b = \"World\"\n",
    "c = a + \" \" + b\n",
    "print(c)"
   ]
  },
  {
   "cell_type": "code",
   "execution_count": 149,
   "id": "38d8e29a-22aa-4306-b1e4-d8ee5deb58ce",
   "metadata": {},
   "outputs": [
    {
     "name": "stdout",
     "output_type": "stream",
     "text": [
      "my name is aiganym, i am 18\n"
     ]
    }
   ],
   "source": [
    "age = 18\n",
    "txt = f\"my name is aiganym, i am {age}\"\n",
    "print(txt)"
   ]
  },
  {
   "cell_type": "code",
   "execution_count": 157,
   "id": "1eab7a24-e621-48ec-b775-ff721eb7c7d7",
   "metadata": {},
   "outputs": [
    {
     "name": "stdout",
     "output_type": "stream",
     "text": [
      "my name is aiganym, i am 18.00\n"
     ]
    }
   ],
   "source": [
    "age = 18\n",
    "txt = f\"my name is aiganym, i am {age:.2f}\"\n",
    "print(txt)"
   ]
  },
  {
   "cell_type": "code",
   "execution_count": 159,
   "id": "0f36b153-a748-4016-9790-c70817df295f",
   "metadata": {},
   "outputs": [
    {
     "name": "stdout",
     "output_type": "stream",
     "text": [
      "the price is 690 dollars\n"
     ]
    }
   ],
   "source": [
    "txt = f\"the price is {69 * 10} dollars\"\n",
    "print(txt)"
   ]
  },
  {
   "cell_type": "code",
   "execution_count": 161,
   "id": "77fbb219-16af-4760-8cec-c2c9005d45f9",
   "metadata": {},
   "outputs": [
    {
     "ename": "SyntaxError",
     "evalue": "invalid syntax (1484953111.py, line 1)",
     "output_type": "error",
     "traceback": [
      "\u001b[1;36m  Cell \u001b[1;32mIn[161], line 1\u001b[1;36m\u001b[0m\n\u001b[1;33m    txt = \"he is called \"Johnny\".\"\u001b[0m\n\u001b[1;37m                         ^\u001b[0m\n\u001b[1;31mSyntaxError\u001b[0m\u001b[1;31m:\u001b[0m invalid syntax\n"
     ]
    }
   ],
   "source": [
    "txt = \"he is called \"Johnny\".\"\n",
    "print(txt)"
   ]
  },
  {
   "cell_type": "code",
   "execution_count": 163,
   "id": "8ceb18af-6ae1-40df-816b-0b233d3450a6",
   "metadata": {},
   "outputs": [
    {
     "name": "stdout",
     "output_type": "stream",
     "text": [
      "he is called \"Johnny\".\n"
     ]
    }
   ],
   "source": [
    "txt = \"he is called \\\"Johnny\\\".\"\n",
    "print(txt)"
   ]
  },
  {
   "cell_type": "code",
   "execution_count": null,
   "id": "9b19666a-6f94-4f06-b9db-f42534d89519",
   "metadata": {},
   "outputs": [],
   "source": []
  }
 ],
 "metadata": {
  "kernelspec": {
   "display_name": "Python [conda env:base] *",
   "language": "python",
   "name": "conda-base-py"
  },
  "language_info": {
   "codemirror_mode": {
    "name": "ipython",
    "version": 3
   },
   "file_extension": ".py",
   "mimetype": "text/x-python",
   "name": "python",
   "nbconvert_exporter": "python",
   "pygments_lexer": "ipython3",
   "version": "3.12.7"
  }
 },
 "nbformat": 4,
 "nbformat_minor": 5
}
