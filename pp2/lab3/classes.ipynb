{
 "cells": [
  {
   "cell_type": "markdown",
   "id": "b9987b85-77c6-450c-8cb5-5449fd39cfbb",
   "metadata": {},
   "source": [
    "ex 1"
   ]
  },
  {
   "cell_type": "code",
   "execution_count": 3,
   "id": "bf4c0421-f60c-4abf-a025-ab7164f76c0b",
   "metadata": {},
   "outputs": [],
   "source": [
    "class strings():\n",
    "    def __init__(self):\n",
    "        self.s = \"\"\n",
    "    def getString(self):\n",
    "        self.s = input()\n",
    "    def printString(self):\n",
    "        print(self.s.upper())\n",
    "\n",
    "# name = strings()\n",
    "# name.getString()\n",
    "# name.printString()"
   ]
  },
  {
   "cell_type": "markdown",
   "id": "1bbd39c2-634c-44fe-b12b-529fc9e2de5e",
   "metadata": {},
   "source": [
    "ex 2"
   ]
  },
  {
   "cell_type": "code",
   "execution_count": 6,
   "id": "50954709-f61f-4019-b104-04768f7ceaca",
   "metadata": {},
   "outputs": [],
   "source": [
    "class Shape:\n",
    "    def __init__(self):\n",
    "        self.a = 0\n",
    "    def area(self):\n",
    "        print(self.a)\n",
    "\n",
    "class Square(Shape):\n",
    "    def __init__(self, length):\n",
    "        Shape.__init__(self)\n",
    "        self.length = length\n",
    "        self.a = self.length**2\n",
    "\n",
    "x1 = Shape()\n",
    "x2 = Square(4)\n",
    "# x1.area()\n",
    "# x2.area()"
   ]
  },
  {
   "cell_type": "markdown",
   "id": "951669f7-8487-4a06-b11d-c2cb7da48004",
   "metadata": {},
   "source": [
    "ex 3"
   ]
  },
  {
   "cell_type": "code",
   "execution_count": null,
   "id": "267dadce-2f70-44b8-8dbb-e858f8441dfc",
   "metadata": {},
   "outputs": [],
   "source": [
    "import ex02\n",
    "\n",
    "class Rectangle(ex02.Shape):\n",
    "    def __init__(self, l, w):\n",
    "        ex02.Shape.__init__(self)\n",
    "        self.l = l\n",
    "        self.w = w\n",
    "    def area(self):\n",
    "        return self.l*self.w\n",
    "\n",
    "r = Rectangle(4, 5)\n",
    "# print(r.area())"
   ]
  },
  {
   "cell_type": "markdown",
   "id": "476c9873-dd88-4919-9d16-65a47aa194b0",
   "metadata": {},
   "source": [
    "ex 4"
   ]
  },
  {
   "cell_type": "code",
   "execution_count": null,
   "id": "8419cdbb-2514-4ad6-b846-34236e406a43",
   "metadata": {},
   "outputs": [],
   "source": [
    "class Point:\n",
    "    def __init__(self, x, y):\n",
    "        self.x = x\n",
    "        self.y = y\n",
    "\n",
    "    def show(self):\n",
    "        print(f'(x, y) = {self.x, self.y}')\n",
    "    \n",
    "    def move(self, x1, y1):\n",
    "        self.x += x1\n",
    "        self.y += y1\n",
    "    \n",
    "    def dist(self, x1, y1):\n",
    "        return ( (self.x - x1)**2 + (self.y - y1)**2)**(1/2)\n",
    "\n",
    "p = Point(1, 2)\n",
    "\n",
    "p.show()\n",
    "\n",
    "p.move(+1, -5)\n",
    "p.show()\n",
    "\n",
    "print(f'distance = {p.dist(0, 0)}')"
   ]
  },
  {
   "cell_type": "markdown",
   "id": "fd5e82fe-ed81-4a20-83fa-9993d1271939",
   "metadata": {},
   "source": [
    "ex 5"
   ]
  },
  {
   "cell_type": "code",
   "execution_count": null,
   "id": "2907226a-dc88-4718-a9df-e9983b8f65cc",
   "metadata": {},
   "outputs": [],
   "source": [
    "class Account:\n",
    "    def __init__(self, owner, balance):\n",
    "        self.owner = owner\n",
    "        self.balance = balance\n",
    "    \n",
    "    def deposit(self, money):\n",
    "        self.balance += money\n",
    "    \n",
    "    def withdraw(self, money):\n",
    "        if self.balance - money >= 0: self.balance -= money\n",
    "        else: print(f'doesn\\'t enough, you have only - {self.balance}tg')\n",
    "    \n",
    "    def __str__(self):\n",
    "        return f'name: {self.owner} \\nbalance: {self.balance}'\n",
    "\n",
    "me = Account('Rasul', 5000)\n",
    "print(me)\n",
    "\n",
    "me.deposit(400)\n",
    "print(me)\n",
    "\n",
    "me.withdraw(3000)\n",
    "print(me)\n",
    "\n",
    "me.withdraw(7000)\n",
    "print(me)"
   ]
  },
  {
   "cell_type": "markdown",
   "id": "7fff281e-c731-4eef-85fd-fba45f3768fc",
   "metadata": {},
   "source": [
    "ex 6"
   ]
  },
  {
   "cell_type": "code",
   "execution_count": null,
   "id": "4b57a9d2-5bdf-426f-b429-65e0a5519f0c",
   "metadata": {},
   "outputs": [],
   "source": [
    "def pr(n):\n",
    "    if n<2: return False\n",
    "    for i in range(2, int(n**(1/2))+1):\n",
    "        if n%i == 0:\n",
    "            return False\n",
    "    return True\n",
    "\n",
    "l = [-4, -3, -2, -1, 0, 1, 2, 3, 4, 5, 6, 7, 8]\n",
    "\n",
    "nums = list(filter(lambda x:pr(x), l))\n",
    "print(nums)"
   ]
  }
 ],
 "metadata": {
  "kernelspec": {
   "display_name": "Python [conda env:base] *",
   "language": "python",
   "name": "conda-base-py"
  },
  "language_info": {
   "codemirror_mode": {
    "name": "ipython",
    "version": 3
   },
   "file_extension": ".py",
   "mimetype": "text/x-python",
   "name": "python",
   "nbconvert_exporter": "python",
   "pygments_lexer": "ipython3",
   "version": "3.12.7"
  }
 },
 "nbformat": 4,
 "nbformat_minor": 5
}
